{
 "cells": [
  {
   "cell_type": "code",
   "execution_count": 4,
   "metadata": {},
   "outputs": [],
   "source": [
    "import PyPDF2\n",
    "import os\n",
    "import nltk\n",
    "from nltk.tokenize import sent_tokenize, word_tokenize\n",
    "from nltk.corpus import stopwords\n",
    "\n",
    "# SET RESUME THEME YOU WOULD LIKE TO ACCESS\n",
    "variable = 'test'\n",
    "\n",
    "# compile all the PDF filenames in that folder:\n",
    "folder_path = f'data/Resume/{variable}'\n",
    "# extract folder name based off the variable\n",
    "# ---(i know this is redundant, but I wrote it before the variable and i thought it to be clever, so its still in here)---\n",
    "resume_folder = os.path.basename(folder_path).lower()\n",
    "\n",
    "\n",
    "text_file = open(f'{folder_path}/{resume_folder}_resumes.txt')\n",
    "text_string = text_file.read()"
   ]
  },
  {
   "cell_type": "code",
   "execution_count": null,
   "metadata": {},
   "outputs": [],
   "source": [
    "\n",
    "words = word_tokenize(text_string)\n",
    "stop_words = set(stopwords.words('english'))\n",
    "\n",
    "filtered_text = [w for w in words if not w in stop_words]\n",
    "print(filtered_text)\n"
   ]
  }
 ],
 "metadata": {
  "kernelspec": {
   "display_name": "Python 3.7.13 ('venv': venv)",
   "language": "python",
   "name": "python3"
  },
  "language_info": {
   "codemirror_mode": {
    "name": "ipython",
    "version": 3
   },
   "file_extension": ".py",
   "mimetype": "text/x-python",
   "name": "python",
   "nbconvert_exporter": "python",
   "pygments_lexer": "ipython3",
   "version": "3.7.13"
  },
  "orig_nbformat": 4,
  "vscode": {
   "interpreter": {
    "hash": "4ef022e24af0d9896d2df829234e3a8e308e976d2609f0b1a6e645a4d7a45074"
   }
  }
 },
 "nbformat": 4,
 "nbformat_minor": 2
}
