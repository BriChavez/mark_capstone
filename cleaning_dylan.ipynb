{
 "cells": [
  {
   "cell_type": "code",
   "execution_count": 3,
   "metadata": {},
   "outputs": [
    {
     "name": "stdout",
     "output_type": "stream",
     "text": [
      " Dylan Peterson ABOUT ME I’ve been in the service industry for 9 years. While I’ve met a lot of great people and learned many great skills. I am ready to start building my knowledge and skill set to focus on becoming a data engineer. SKILLS APIs & Flask Docker BigQuery Python SQL ETL/ELTs Apache Airﬂow Google Cloud StorageGoogle App EngineJupyter NotebooksTerminal/ Command lineLinux Data VisualizationDBT Pandas Apache Spark VirtualEnvs GitHub EXPERIENCE Barlow Tavern, Portland OR — Bartender | Cook JULY 2021 - PRESENT ● Independently run the operations of the bar to ensure a smooth shift. ● Deliver world-class customer service to make a safe and clean environment for guests to enjoy. ● Complete customer orders with e\u0000ciency and accuracy. Bar Bar & Mississippi Studios, Portland OR — Bartender | Barback | Cook MAY 2016 - JUNE 2021 ● Kept up with the 200+ orders a day while maintaining a high-quality product for the customer. ● Trained upwards of 80 employees to succeed in their respective roles. ● Followed a list of closing procedures completely and thoroughly every day. Wrote the procedures for other employees' success. EDUCATION Epicodus, Portland OR — Data Stack Academy - Data Engineering MARCH 2022 - PRESENT Full-time 27-week intensive program focused on Data Engineering Some of the skills & abilities learned: ● Comfortable with Terminal Command Line, Linux, VirtualEnvs, & GitHub integration. ● Worked extensively with Python and data-focused python libraries. ● Versed in Google Cloud(BigQuery, Cloud Storage, & App Engine). ● Able to thoroughly explain my code and strong debugging skills. ● Majority of my time spent pair-programming with peers. ● Write, conﬁgure, deploy, and maintain the necessary tools to deliver clean data (ETLs). ● Capable of using SQL to query, modify and create databases. ● Wrote documentation explaining how to use code written personally or with peers. ● Worked in a team to organize and complete a project over a week. ● Had weekly Code Reviews on independent projects to check comprehension and code quality. PROJECTS https://github.com/DyPeterson/monkeypox Team week project that downloads a Kaggle dataset and runs it through a data pipeline. Perpetually updating our BigQuery table with Airﬂow. Also running the updated table through data visualizations and aggregations.https://github.com/DyPeterson/pokemon_battler Team project that creates an API out of an online TSV. The API allows you to battle with two Pokemon from the dataset. After a battle is completed It updates the win/losses respectively. The dataset and API are also hosted on the cloud. \n"
     ]
    }
   ],
   "source": [
    "import re\n",
    "with open('data/bri/dirty_dylan.txt', 'r') as dylan_script:\n",
    "    # open txt file and read to string\n",
    "    dylan_file = dylan_script.read()\n",
    "    # lowercase everything in the string\n",
    "cleaner_dylan = []\n",
    "cleaned_dylan = re.sub(r\"(\\n)\", \"  \", dylan_file)\n",
    "cleaned_dylan = cleaned_dylan.split('  ')\n",
    "\n",
    "for word in cleaned_dylan:\n",
    "\n",
    "    # print(word.split(' '))\n",
    "\n",
    "    join_word = ''.join(word.split(' '))\n",
    "    cleaner_dylan.append(join_word)\n",
    "    # print(join_word)\n",
    "cleanest_dylan = ' '.join(cleaner_dylan)\n",
    "print(cleanest_dylan)\n",
    "# resume_string = re.findall(r\"[.,]|[a-z]+[']?[a-z]+\", cleaner_dylan)\n",
    "# _RE_COMBINE_WHITESPACE = re.compile(r\"(?a:\\s+)\")\n",
    "# _RE_STRIP_WHITESPACE = re.compile(r\"(?a:^\\s+|\\s+$)\")\n",
    "\n",
    "# # dylan_file = _RE_COMBINE_WHITESPACE.sub(\" \", dylan_file)\n",
    "# dylan_file = _RE_STRIP_WHITESPACE.sub(\"\", dylan_file)\n",
    "text_file = open('data/bri/all_clean_dylan.txt', 'w')\n",
    "# write our resume to it\n",
    "text_file.write(cleanest_dylan)\n",
    "# shut it down. our work here is done\n",
    "text_file.close()\n",
    "# print(cleaned_dylan)\n"
   ]
  }
 ],
 "metadata": {
  "kernelspec": {
   "display_name": "Python 3.7.13 ('venv': venv)",
   "language": "python",
   "name": "python3"
  },
  "language_info": {
   "codemirror_mode": {
    "name": "ipython",
    "version": 3
   },
   "file_extension": ".py",
   "mimetype": "text/x-python",
   "name": "python",
   "nbconvert_exporter": "python",
   "pygments_lexer": "ipython3",
   "version": "3.7.13"
  },
  "orig_nbformat": 4,
  "vscode": {
   "interpreter": {
    "hash": "4ef022e24af0d9896d2df829234e3a8e308e976d2609f0b1a6e645a4d7a45074"
   }
  }
 },
 "nbformat": 4,
 "nbformat_minor": 2
}
