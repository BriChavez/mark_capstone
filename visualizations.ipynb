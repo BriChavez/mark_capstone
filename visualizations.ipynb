{
 "cells": [
  {
   "cell_type": "code",
   "execution_count": 21,
   "metadata": {},
   "outputs": [],
   "source": [
    "\n",
    "from collections import Counter\n",
    "import warnings\n",
    "import numpy as np\n",
    "import pandas as pd\n",
    "from os import path\n",
    "from PIL import Image\n",
    "import re\n",
    "import os\n",
    "import contractions\n",
    "from wordcloud import WordCloud, STOPWORDS, ImageColorGenerator\n",
    "\n",
    "import matplotlib.pyplot as plt\n"
   ]
  },
  {
   "cell_type": "code",
   "execution_count": 28,
   "metadata": {},
   "outputs": [
    {
     "ename": "FileNotFoundError",
     "evalue": "[Errno 2] No such file or directory: 'data/Resume/AVIATION/aviation_resumes.txt'",
     "output_type": "error",
     "traceback": [
      "\u001b[0;31m---------------------------------------------------------------------------\u001b[0m",
      "\u001b[0;31mFileNotFoundError\u001b[0m                         Traceback (most recent call last)",
      "\u001b[0;32m/tmp/ipykernel_260830/2762361724.py\u001b[0m in \u001b[0;36m<module>\u001b[0;34m\u001b[0m\n\u001b[1;32m      6\u001b[0m \u001b[0;34m\u001b[0m\u001b[0m\n\u001b[1;32m      7\u001b[0m \u001b[0;34m\u001b[0m\u001b[0m\n\u001b[0;32m----> 8\u001b[0;31m \u001b[0;32mwith\u001b[0m \u001b[0mopen\u001b[0m\u001b[0;34m(\u001b[0m\u001b[0;34mf'{folder_path}/{resume_folder}_resumes.txt'\u001b[0m\u001b[0;34m,\u001b[0m \u001b[0;34m'r'\u001b[0m\u001b[0;34m)\u001b[0m \u001b[0;32mas\u001b[0m \u001b[0mresume_script\u001b[0m\u001b[0;34m:\u001b[0m\u001b[0;34m\u001b[0m\u001b[0;34m\u001b[0m\u001b[0m\n\u001b[0m\u001b[1;32m      9\u001b[0m     \u001b[0;31m# open txt file and read to string\u001b[0m\u001b[0;34m\u001b[0m\u001b[0;34m\u001b[0m\u001b[0;34m\u001b[0m\u001b[0m\n\u001b[1;32m     10\u001b[0m     \u001b[0mresume_file\u001b[0m \u001b[0;34m=\u001b[0m \u001b[0mresume_script\u001b[0m\u001b[0;34m.\u001b[0m\u001b[0mread\u001b[0m\u001b[0;34m(\u001b[0m\u001b[0;34m)\u001b[0m\u001b[0;34m.\u001b[0m\u001b[0mlower\u001b[0m\u001b[0;34m(\u001b[0m\u001b[0;34m)\u001b[0m\u001b[0;34m\u001b[0m\u001b[0;34m\u001b[0m\u001b[0m\n",
      "\u001b[0;31mFileNotFoundError\u001b[0m: [Errno 2] No such file or directory: 'data/Resume/AVIATION/aviation_resumes.txt'"
     ]
    }
   ],
   "source": [
    "parriable = 'AVIATION'\n",
    "\n",
    "\n",
    "folder_path = f'data/Resume/{parriable}'\n",
    "resume_folder = os.path.basename(folder_path).lower()\n",
    "\n",
    "\n",
    "with open(f'{folder_path}/{resume_folder}_resumes.txt', 'r') as resume_script:\n",
    "    # open txt file and read to string\n",
    "    resume_file = resume_script.read().lower()\n"
   ]
  },
  {
   "cell_type": "code",
   "execution_count": null,
   "metadata": {},
   "outputs": [],
   "source": [
    "with open('data/bri/bri_resumes.txt', 'r') as resume_script:\n",
    "    # open txt file and read to string\n",
    "    resume_file = resume_script.read().lower()\n"
   ]
  },
  {
   "cell_type": "code",
   "execution_count": null,
   "metadata": {},
   "outputs": [],
   "source": [
    "# regex to keep only punctuation or words more than two letters long, may or may not contain an apostrophe in the middle\n",
    "resume_string = re.findall(r\"[a-z]+[']?[a-z]+\", resume_file)\n",
    "# adds things to out list of unwanted words\n",
    "more_drops = ['state', 'city', 'name', 'company', 'of', 'for',\n",
    "              'college', 'am', 'the', 'to', 'in', 'with', 'and']\n",
    "# toss those words to the curbs\n",
    "stop_dropped_resume = [w for w in resume_string if not w in more_drops]\n",
    "# Here, we will expand contractions\n",
    "expanded_words = []\n",
    "for word in stop_dropped_resume:\n",
    "  # using contractions.fix to expand the shortened words\n",
    "  expanded_words.append(contractions.fix(word))\n",
    "\n",
    "word_cloud_dict = Counter(expanded_words)\n",
    "print(word_cloud_dict)\n"
   ]
  },
  {
   "cell_type": "code",
   "execution_count": 27,
   "metadata": {},
   "outputs": [],
   "source": [
    "\n",
    "\n",
    "wordcloud = WordCloud(\n",
    "    width=1000, height=500).generate_from_frequencies(word_cloud_dict)\n",
    "\n",
    "plt.figure(figsize=(15, 8))\n",
    "plt.imshow(wordcloud)\n",
    "plt.axis(\"off\")\n",
    "#plt.show()\n",
    "plt.savefig(f'{folder_path}/{resume_folder}_wordcloud.png', bbox_inches='tight')\n",
    "plt.close()\n"
   ]
  },
  {
   "cell_type": "code",
   "execution_count": null,
   "metadata": {},
   "outputs": [],
   "source": [
    "\"\"\"git clone https: // github.com/amueller/word_cloud.git\n",
    "cd word_cloud\n",
    "pip install .\n",
    "\"\"\""
   ]
  },
  {
   "cell_type": "code",
   "execution_count": null,
   "metadata": {},
   "outputs": [],
   "source": []
  },
  {
   "cell_type": "code",
   "execution_count": null,
   "metadata": {},
   "outputs": [],
   "source": [
    "# resume_string = re.findall(r\"[A-Za-z]+|[.,]\", resume_file)\n",
    "\n",
    "# resume_string = re.findall(r\"[A-Za-z]+|[.,]\", resume_file)\n",
    "\n",
    "\n",
    "more_drops = ['state', 'city', 'name', 'company',\n",
    "              'college', 'am', 'the', 'to', 'in']\n",
    "stop_dropped_resume = [w for w in resume_string if not w in more_drops]\n",
    "stop_dropped_resume = re.findall(r'\\b\\w\\b', '', str(stop_dropped_resume))\n",
    "\n",
    "print(stop_dropped_resume)\n",
    "# more_drops = ['state', 'city', 'name', 'company', 'college']\n",
    "# stop_dropped_resume = [w for w in resume_string if not w in more_drops]\n",
    "\n",
    "# # # encode the string into ‘ASCII’ and error as ‘ignore’ to remove Unicode characters\n",
    "# # no_nonsense = str.encode(str(resume_string), \"utf-8\", \"ignore\")\n",
    "# # # # # decode the string back in its form\n",
    "# # no_nonsense_resume = no_nonsense.decode()\n",
    "# stop_dropped_resume = re.sub(r'\\b[A-Za-z]\\b', '', str(stop_dropped_resume))\n",
    "# # print(stop_dropped_resume[:2000])\n"
   ]
  },
  {
   "cell_type": "code",
   "execution_count": 10,
   "metadata": {},
   "outputs": [
    {
     "ename": "NameError",
     "evalue": "name 'stop_dropped_resume' is not defined",
     "output_type": "error",
     "traceback": [
      "\u001b[0;31m---------------------------------------------------------------------------\u001b[0m",
      "\u001b[0;31mNameError\u001b[0m                                 Traceback (most recent call last)",
      "\u001b[0;32m/tmp/ipykernel_210127/1049303771.py\u001b[0m in \u001b[0;36m<module>\u001b[0;34m\u001b[0m\n\u001b[1;32m      8\u001b[0m                       \u001b[0mbackground_color\u001b[0m\u001b[0;34m=\u001b[0m\u001b[0;34m'white'\u001b[0m\u001b[0;34m,\u001b[0m\u001b[0;34m\u001b[0m\u001b[0;34m\u001b[0m\u001b[0m\n\u001b[1;32m      9\u001b[0m                       \u001b[0mstopwords\u001b[0m\u001b[0;34m=\u001b[0m\u001b[0mstopwords\u001b[0m\u001b[0;34m,\u001b[0m\u001b[0;34m\u001b[0m\u001b[0;34m\u001b[0m\u001b[0m\n\u001b[0;32m---> 10\u001b[0;31m                       min_font_size=10).generate(stop_dropped_resume)\n\u001b[0m\u001b[1;32m     11\u001b[0m \u001b[0;34m\u001b[0m\u001b[0m\n\u001b[1;32m     12\u001b[0m \u001b[0;31m# plot the WordCloud image\u001b[0m\u001b[0;34m\u001b[0m\u001b[0;34m\u001b[0m\u001b[0;34m\u001b[0m\u001b[0m\n",
      "\u001b[0;31mNameError\u001b[0m: name 'stop_dropped_resume' is not defined"
     ]
    }
   ],
   "source": [
    "# import PyQt5\n",
    "import matplotlib\n",
    "# matplotlib.use('qtagg')\n",
    "resume_text = resume_file.split()\n",
    "stopwords = set(STOPWORDS)\n",
    "\n",
    "wordcloud = WordCloud(width=800, height=800,\n",
    "                      background_color='white',\n",
    "                      stopwords=stopwords,\n",
    "                      min_font_size=10).generate(stop_dropped_resume)\n",
    "\n",
    "# plot the WordCloud image\n",
    "plt.figure(figsize=(8, 8), facecolor=None)\n",
    "plt.imshow(wordcloud)\n",
    "plt.axis(\"off\")\n",
    "plt.tight_layout(pad=0)\n",
    "\n",
    "plt.show()\n"
   ]
  },
  {
   "cell_type": "code",
   "execution_count": 17,
   "metadata": {},
   "outputs": [
    {
     "name": "stdout",
     "output_type": "stream",
     "text": [
      "['GTK3Agg', 'GTK3Cairo', 'GTK4Agg', 'GTK4Cairo', 'MacOSX', 'nbAgg', 'QtAgg', 'QtCairo', 'Qt5Agg', 'Qt5Cairo', 'TkAgg', 'TkCairo', 'WebAgg', 'WX', 'WXAgg', 'WXCairo', 'agg', 'cairo', 'pdf', 'pgf', 'ps', 'svg', 'template']\n"
     ]
    }
   ],
   "source": [
    "import matplotlib.rcsetup as rcsetup\n",
    "print(rcsetup.all_backends)\n"
   ]
  }
 ],
 "metadata": {
  "kernelspec": {
   "display_name": "Python 3.7.13 ('venv': venv)",
   "language": "python",
   "name": "python3"
  },
  "language_info": {
   "codemirror_mode": {
    "name": "ipython",
    "version": 3
   },
   "file_extension": ".py",
   "mimetype": "text/x-python",
   "name": "python",
   "nbconvert_exporter": "python",
   "pygments_lexer": "ipython3",
   "version": "3.7.13"
  },
  "orig_nbformat": 4,
  "vscode": {
   "interpreter": {
    "hash": "4ef022e24af0d9896d2df829234e3a8e308e976d2609f0b1a6e645a4d7a45074"
   }
  }
 },
 "nbformat": 4,
 "nbformat_minor": 2
}
