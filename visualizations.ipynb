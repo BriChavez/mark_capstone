{
 "cells": [
  {
   "cell_type": "code",
   "execution_count": 3,
   "metadata": {},
   "outputs": [],
   "source": [
    "\n",
    "from collections import Counter\n",
    "import warnings\n",
    "import numpy as np\n",
    "import pandas as pd\n",
    "from os import path\n",
    "from PIL import Image\n",
    "import re\n",
    "import os\n",
    "import contractions\n",
    "from wordcloud import WordCloud, STOPWORDS, ImageColorGenerator\n",
    "\n",
    "import matplotlib.pyplot as plt\n"
   ]
  },
  {
   "cell_type": "code",
   "execution_count": 4,
   "metadata": {},
   "outputs": [],
   "source": [
    "parriable = 'AVIATION'\n",
    "\n",
    "\n",
    "folder_path = f'data/Resume/{parriable}'\n",
    "resume_folder = os.path.basename(folder_path).lower()\n",
    "\n",
    "\n",
    "with open(f'{folder_path}/{resume_folder}_resumes.txt', 'r') as resume_script:\n",
    "    # open txt file and read to string\n",
    "    resume_file = resume_script.read().lower()\n"
   ]
  },
  {
   "cell_type": "code",
   "execution_count": null,
   "metadata": {},
   "outputs": [],
   "source": [
    "with open('data/bri/bri_resumes.txt', 'r') as resume_script:\n",
    "    # open txt file and read to string\n",
    "    resume_file = resume_script.read().lower()\n"
   ]
  },
  {
   "cell_type": "code",
   "execution_count": null,
   "metadata": {},
   "outputs": [],
   "source": [
    "# regex to keep only punctuation or words more than two letters long, may or may not contain an apostrophe in the middle\n",
    "resume_string = re.findall(r\"[a-z]+[']?[a-z]+\", resume_file)\n",
    "# adds things to out list of unwanted words\n",
    "more_drops = ['state', 'city', 'name', 'company', 'of', 'for', 'as',\n",
    "              'college', 'am', 'the', 'to', 'on', 'in', 'with', 'and']\n",
    "# toss those words to the curbs\n",
    "stop_dropped_resume = [w for w in resume_string if not w in more_drops]\n",
    "# Here, we will expand contractions\n",
    "expanded_words = []\n",
    "for word in stop_dropped_resume:\n",
    "  # using contractions.fix to expand the shortened words\n",
    "  expanded_words.append(contractions.fix(word))\n",
    "\n",
    "word_cloud_dict = Counter(expanded_words)\n",
    "print(word_cloud_dict)\n"
   ]
  },
  {
   "cell_type": "code",
   "execution_count": 14,
   "metadata": {},
   "outputs": [],
   "source": [
    "resume_dict = {}\n",
    "# for loop that runs over every word in our string, but stating to stop at the last word\n",
    "for i, word in enumerate(expanded_words[:-1]):\n",
    "    # setting this word to be the word right after the one we were on\n",
    "    this_word = expanded_words[i+1]\n",
    "    # if this_word isn't in our dictionary already...\n",
    "    if this_word not in resume_dict:\n",
    "        # start our counter dict\n",
    "        next_count = {}\n",
    "        # add our new word to be a key in our resume dict and the count dict to be its value\n",
    "        resume_dict[this_word] = next_count\n",
    "    # if it is already in there....\n",
    "    else:\n",
    "        # create empty dictionary with this_word as the key and next_count as the value\n",
    "        next_count = resume_dict[this_word]\n",
    "    # if the next word(word) is in our nested dict already...\n",
    "    if word in next_count:\n",
    "        # add one to its count\n",
    "        next_count[word] += 1\n",
    "    # if its not already in there\n",
    "    else:\n",
    "        # lets add it and set its count to 1\n",
    "        next_count[word] = 1\n"
   ]
  },
  {
   "cell_type": "code",
   "execution_count": 15,
   "metadata": {},
   "outputs": [],
   "source": [
    "import json\n",
    "\n",
    "with open(\"json_graph.json\", \"w\") as jason:\n",
    "    json.dump(resume_dict, jason, indent = 3)\n",
    "# json.dumps(resume_dict, sort_keys=True, indent=3))\n"
   ]
  },
  {
   "cell_type": "code",
   "execution_count": 13,
   "metadata": {},
   "outputs": [
    {
     "name": "stdout",
     "output_type": "stream",
     "text": [
      "Graph with 8261 nodes and 48707 edges\n"
     ]
    },
    {
     "ename": "TypeError",
     "evalue": "G is not a tree.",
     "output_type": "error",
     "traceback": [
      "\u001b[0;31m---------------------------------------------------------------------------\u001b[0m",
      "\u001b[0;31mTypeError\u001b[0m                                 Traceback (most recent call last)",
      "\u001b[0;32m/tmp/ipykernel_434838/1274776370.py\u001b[0m in \u001b[0;36m<module>\u001b[0;34m\u001b[0m\n\u001b[1;32m     15\u001b[0m \u001b[0mG\u001b[0m \u001b[0;34m=\u001b[0m \u001b[0mnx\u001b[0m\u001b[0;34m.\u001b[0m\u001b[0mGraph\u001b[0m\u001b[0;34m(\u001b[0m\u001b[0mresume_dict\u001b[0m\u001b[0;34m)\u001b[0m\u001b[0;34m\u001b[0m\u001b[0;34m\u001b[0m\u001b[0m\n\u001b[1;32m     16\u001b[0m \u001b[0mprint\u001b[0m\u001b[0;34m(\u001b[0m\u001b[0mG\u001b[0m\u001b[0;34m)\u001b[0m\u001b[0;34m\u001b[0m\u001b[0;34m\u001b[0m\u001b[0m\n\u001b[0;32m---> 17\u001b[0;31m \u001b[0mdata\u001b[0m \u001b[0;34m=\u001b[0m \u001b[0mjson_graph\u001b[0m\u001b[0;34m.\u001b[0m\u001b[0mtree_data\u001b[0m\u001b[0;34m(\u001b[0m\u001b[0mG\u001b[0m\u001b[0;34m,\u001b[0m \u001b[0mroot\u001b[0m\u001b[0;34m=\u001b[0m\u001b[0;36m1\u001b[0m\u001b[0;34m)\u001b[0m\u001b[0;34m\u001b[0m\u001b[0;34m\u001b[0m\u001b[0m\n\u001b[0m\u001b[1;32m     18\u001b[0m \u001b[0mH\u001b[0m \u001b[0;34m=\u001b[0m \u001b[0mjson_graph\u001b[0m\u001b[0;34m.\u001b[0m\u001b[0mtree_graph\u001b[0m\u001b[0;34m(\u001b[0m\u001b[0mdata\u001b[0m\u001b[0;34m)\u001b[0m\u001b[0;34m\u001b[0m\u001b[0;34m\u001b[0m\u001b[0m\n\u001b[1;32m     19\u001b[0m \u001b[0;31m# nx.write_gpickle(G, 'finished_resumes/graph.gpickle')\u001b[0m\u001b[0;34m\u001b[0m\u001b[0;34m\u001b[0m\u001b[0;34m\u001b[0m\u001b[0m\n",
      "\u001b[0;32m~/deb/tests/capstone/venv/lib/python3.7/site-packages/networkx/readwrite/json_graph/tree.py\u001b[0m in \u001b[0;36mtree_data\u001b[0;34m(G, root, attrs, ident, children)\u001b[0m\n\u001b[1;32m     73\u001b[0m     \"\"\"\n\u001b[1;32m     74\u001b[0m     \u001b[0;32mif\u001b[0m \u001b[0mG\u001b[0m\u001b[0;34m.\u001b[0m\u001b[0mnumber_of_nodes\u001b[0m\u001b[0;34m(\u001b[0m\u001b[0;34m)\u001b[0m \u001b[0;34m!=\u001b[0m \u001b[0mG\u001b[0m\u001b[0;34m.\u001b[0m\u001b[0mnumber_of_edges\u001b[0m\u001b[0;34m(\u001b[0m\u001b[0;34m)\u001b[0m \u001b[0;34m+\u001b[0m \u001b[0;36m1\u001b[0m\u001b[0;34m:\u001b[0m\u001b[0;34m\u001b[0m\u001b[0;34m\u001b[0m\u001b[0m\n\u001b[0;32m---> 75\u001b[0;31m         \u001b[0;32mraise\u001b[0m \u001b[0mTypeError\u001b[0m\u001b[0;34m(\u001b[0m\u001b[0;34m\"G is not a tree.\"\u001b[0m\u001b[0;34m)\u001b[0m\u001b[0;34m\u001b[0m\u001b[0;34m\u001b[0m\u001b[0m\n\u001b[0m\u001b[1;32m     76\u001b[0m     \u001b[0;32mif\u001b[0m \u001b[0;32mnot\u001b[0m \u001b[0mG\u001b[0m\u001b[0;34m.\u001b[0m\u001b[0mis_directed\u001b[0m\u001b[0;34m(\u001b[0m\u001b[0;34m)\u001b[0m\u001b[0;34m:\u001b[0m\u001b[0;34m\u001b[0m\u001b[0;34m\u001b[0m\u001b[0m\n\u001b[1;32m     77\u001b[0m         \u001b[0;32mraise\u001b[0m \u001b[0mTypeError\u001b[0m\u001b[0;34m(\u001b[0m\u001b[0;34m\"G is not directed.\"\u001b[0m\u001b[0;34m)\u001b[0m\u001b[0;34m\u001b[0m\u001b[0;34m\u001b[0m\u001b[0m\n",
      "\u001b[0;31mTypeError\u001b[0m: G is not a tree."
     ]
    }
   ],
   "source": [
    "from itertools import chain\n",
    "from operator import itemgetter\n",
    "import networkx as nx\n",
    "from networkx.readwrite import json_graph\n",
    "# vg = lambda d: d.values()\n",
    "# cg = itemgetter('class')\n",
    "# list(map(cg, chain(*map(vg, c))))\n",
    "# import pandas as pd\n",
    "# df = pd.DataFrame(resume_dict)\n",
    "# # df.transpose().plot.bar()\n",
    "# dod = {0: {1: {\"weight\": 1}}}\n",
    "# G = nx.from_dict_of_dicts(dod)\n",
    "\n",
    "\n",
    "G = nx.Graph(resume_dict)\n",
    "print(G)\n",
    "data = json_graph.tree_data(G, root=1)\n",
    "H = json_graph.tree_graph(data)\n",
    "# nx.write_gpickle(G, 'finished_resumes/graph.gpickle')\n",
    "# G = nx.read_gpickle('finished_resumes/graph.gpickle')\n"
   ]
  },
  {
   "cell_type": "code",
   "execution_count": 9,
   "metadata": {},
   "outputs": [
    {
     "data": {
      "text/plain": [
       "[]"
      ]
     },
     "execution_count": 9,
     "metadata": {},
     "output_type": "execute_result"
    },
    {
     "data": {
      "image/png": "[encoded data removed]",
      "text/plain": [
       "<Figure size 432x288 with 1 Axes>"
      ]
     },
     "metadata": {
      "needs_background": "light"
     },
     "output_type": "display_data"
    }
   ],
   "source": [
    "\n",
    "import matplotlib.pylab as plt\n",
    "\n",
    "lists = sorted(resume_dict.items())  # sorted by key, return a list of tuples\n",
    "\n",
    "x, y = zip(*lists)  # unpack a list of pairs into two tuples\n",
    "\n",
    "plt.plot()\n",
    "# plt.show()\n"
   ]
  },
  {
   "cell_type": "code",
   "execution_count": 33,
   "metadata": {},
   "outputs": [],
   "source": [
    "\n",
    "\n",
    "wordcloud = WordCloud(\n",
    "    width=1000, height=500).generate_from_frequencies(word_cloud_dict)\n",
    "\n",
    "plt.figure(figsize=(15, 8))\n",
    "plt.imshow(wordcloud)\n",
    "plt.axis(\"off\")\n",
    "#plt.show()\n",
    "plt.savefig(f'{folder_path}/{resume_folder}_wordcloud.png', bbox_inches='tight')\n",
    "plt.close()\n"
   ]
  },
  {
   "cell_type": "code",
   "execution_count": null,
   "metadata": {},
   "outputs": [],
   "source": []
  }
 ],
 "metadata": {
  "kernelspec": {
   "display_name": "Python 3.7.13 ('venv': venv)",
   "language": "python",
   "name": "python3"
  },
  "language_info": {
   "codemirror_mode": {
    "name": "ipython",
    "version": 3
   },
   "file_extension": ".py",
   "mimetype": "text/x-python",
   "name": "python",
   "nbconvert_exporter": "python",
   "pygments_lexer": "ipython3",
   "version": "3.7.13"
  },
  "orig_nbformat": 4,
  "vscode": {
   "interpreter": {
    "hash": "4ef022e24af0d9896d2df829234e3a8e308e976d2609f0b1a6e645a4d7a45074"
   }
  }
 },
 "nbformat": 4,
 "nbformat_minor": 2
}
