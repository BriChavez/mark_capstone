{
 "cells": [
  {
   "cell_type": "code",
   "execution_count": null,
   "metadata": {},
   "outputs": [],
   "source": [
    "import os\n",
    "import PyPDF2\n",
    "import re\n",
    "import glob\n",
    "from os import listdir\n",
    "from os.path import isfile, join\n",
    "\n",
    "\n",
    "all_files = [f for f in listdir('data/Resume/test') if isfile(join('data/Resume/test', f))]\n",
    "\n",
    "\n",
    "for file in all_files:\n",
    "    fileReader = PyPDF2.PdfFileReader(open(file, 'rb'))\n",
    "    count = 0\n",
    "    while count < 3:\n",
    "\n",
    "        pageObj = fileReader.getPage(count)\n",
    "        count += 1\n",
    "        text = pageObj.extractText()\n",
    "\n",
    "\n",
    "# file_path = 'data/Resume/ARTS/10830646.pdf'\n",
    "# pdf_folder = 'data/test/*.pdf'\n",
    "# # pdfReader = PyPDF2.PdfFileReader(file_path)\n",
    "\n",
    "# full_folder_resume_text = []\n",
    "# pdf_files = glob.glob('pdf_folder')\n",
    "# for file in pdf_folder:\n",
    "#     pdfReader = PyPDF2.PdfFileReader(file)\n",
    "#     pages = pdfReader.numPages\n",
    "#     resume_from_pdf = pdfReader.getPage(pages)\n",
    "#     resume = resume_from_pdf.extractText()\n",
    "#     full_folder_resume_text.append(resume)\n",
    "\n",
    "\n",
    "# print(full_folder_resume_text)\n",
    "\n",
    "\n",
    "# import glob\n",
    "\n",
    "# def readfiles():\n",
    "#    os.chdir(path)\n",
    "#    pdfs = []\n",
    "#    for file in glob.glob(\"*.pdf\"):\n",
    "#        print(file)\n",
    "#        pdfs.append(file)\n",
    "\n",
    "# os.chdir(raw_input(\"enter the path: \").replace(\"\\\\\", \"\"))\n",
    "# print os.listdir(\".\")\n",
    "# for file in os.listdir(\".\"):\n",
    "#     if file.endswith(\".pdf\"):\n",
    "#         print file\n",
    "#         process(file)\n"
   ]
  },
  {
   "cell_type": "code",
   "execution_count": null,
   "metadata": {},
   "outputs": [],
   "source": [
    "# import aspose.words as aw\n",
    "# import PyPDF2\n",
    "# import os\n",
    "\n",
    "# # compile all the PDF filenames:\n",
    "# txtFiles = []\n",
    "# folder_path = 'data/Resume/test'\n",
    "# # a nice stroll through the folder, innit:\n",
    "# for filename in os.listdir(folder_path):\n",
    "#     if filename.endswith('.pdf'):\n",
    "#         doc = aw.Document(filename)\n",
    "#         doc.save(f\"data/Resume/test/{filename}.txt\")\n",
    "#         txtFiles.append(filename)\n"
   ]
  },
  {
   "cell_type": "code",
   "execution_count": null,
   "metadata": {},
   "outputs": [],
   "source": []
  },
  {
   "cell_type": "code",
   "execution_count": 47,
   "metadata": {},
   "outputs": [],
   "source": [
    "import aspose.words as aw\n",
    "import PyPDF2\n",
    "import os\n",
    "\n",
    "# compile all the PDF filenames:\n",
    "folder_path = 'data/Resume/DESIGNER'\n",
    "resume_folder = os.path.basename(folder_path).lower()\n",
    "# a nice stroll through the folder, innit:\n",
    "\n",
    "def extract_resumes():\n",
    "    pdfFiles = []\n",
    "    \n",
    "    for filename in os.listdir(folder_path):\n",
    "        if filename.endswith('.pdf'):\n",
    "            pdfFiles.append(filename)\n",
    "\n",
    "    pdfWriter = PyPDF2.PdfFileWriter()\n",
    "\n",
    "    for filename in pdfFiles:\n",
    "        pdfFileObj = open(f'{folder_path}/{filename}', 'rb')\n",
    "        pdfReader = PyPDF2.PdfFileReader(pdfFileObj)\n",
    "\n",
    "        for pageNum in range(0, pdfReader.numPages):\n",
    "            pageObj = pdfReader.getPage(pageNum)\n",
    "            pdfWriter.addPage(pageObj)\n",
    "    resume_folder = os.path.basename(folder_path).lower()\n",
    "    pdfOutput = open(f'{folder_path}/{resume_folder}_resumes.pdf', 'wb')\n",
    "    pdfWriter.write(pdfOutput)\n",
    "    pdfOutput.close()\n",
    "    \n",
    "extract_resumes()\n",
    "# extract_resumes()\n",
    "\n",
    "\n",
    "\n",
    "\n",
    "# def all_resumes_to_txt():\n",
    "#     pdfFileObj = open(f'{folder_path}/all_resumes.pdf', 'rb')\n",
    "#     pdfReader = PyPDF2.PdfFileReader(pdfFileObj)\n",
    "#     resumes_text = pdfReader.num\n",
    "\n",
    "\n",
    "\n",
    "\n",
    "\n",
    "# os.path.basename(folder_path)\n",
    "\n",
    "# # sort the list; initiate writer obj:\n",
    "# pdfFiles.sort(key=str.lower)\n",
    "# pdfWriter = PyPDF2.PdfFileWriter()\n",
    "\n",
    "# # flashy display:\n",
    "# print('{}\\n'.format(len(pdfFiles)))\n",
    "# for i in pdfFiles:\n",
    "#     print(i)\n",
    "\n",
    "# # Loop through all the PDF files.\n",
    "# for filename in pdfFiles:\n",
    "#     pdfFileObj = open(filename, 'rb')\n",
    "#     pdfReader = PyPDF2.PdfFileReader(pdfFileObj)\n",
    "#     # Loop through all the pages (except the first) and add them.\n",
    "#     for pageNum in range(0, pdfReader.numPages):\n",
    "#         pageObj = pdfReader.getPage(pageNum)\n",
    "#         pdfWriter.addPage(pageObj)\n",
    "\n",
    "# # Save the resulting PDF to a file.\n",
    "# pdfOutput = open('allminutes.pdf', 'wb')\n",
    "# pdfWriter.write(pdfOutput)\n",
    "# pdfOutput.close()\n"
   ]
  },
  {
   "cell_type": "code",
   "execution_count": null,
   "metadata": {},
   "outputs": [],
   "source": [
    "import PyPDF2\n",
    "\n",
    "all_resumes_pdf = open(f'{folder_path}/{resume_folder}_resumes.pdf', 'wb')\n",
    "\n",
    "\n"
   ]
  },
  {
   "cell_type": "code",
   "execution_count": null,
   "metadata": {},
   "outputs": [],
   "source": []
  },
  {
   "cell_type": "code",
   "execution_count": 43,
   "metadata": {},
   "outputs": [],
   "source": [
    "import PyPDF2\n",
    "\n",
    "\n",
    "# folder_path = 'data/Resume/TEACHER'\n",
    "# resume_folder = os.path.basename(folder_path).lower()\n",
    "\n",
    "all_resumes_pdf = open(f'{folder_path}/{resume_folder}_resumes.pdf', mode='rb')\n",
    "all_resumes_file = PyPDF2.PdfFileReader(all_resumes_pdf)\n",
    "\n",
    "text = \"\"\n",
    "for pageNum in range(0, all_resumes_file.numPages):\n",
    "    page = all_resumes_file.getPage(pageNum)\n",
    "    text += page.extract_text() + \"\\n\"\n",
    "\n",
    "# for page in all_resumes_file.pages:\n",
    "#     \n"
   ]
  },
  {
   "cell_type": "code",
   "execution_count": 45,
   "metadata": {},
   "outputs": [],
   "source": [
    "text_file = open(f'{folder_path}/{resume_folder}_resumes.txt', \"w\")\n",
    "text_file.write(text)\n",
    "text_file.close()\n"
   ]
  },
  {
   "cell_type": "code",
   "execution_count": 32,
   "metadata": {},
   "outputs": [
    {
     "ename": "TypeError",
     "evalue": "string indices must be integers",
     "output_type": "error",
     "traceback": [
      "\u001b[0;31m---------------------------------------------------------------------------\u001b[0m",
      "\u001b[0;31mTypeError\u001b[0m                                 Traceback (most recent call last)",
      "\u001b[0;32m/tmp/ipykernel_13437/1684152812.py\u001b[0m in \u001b[0;36m<module>\u001b[0;34m\u001b[0m\n\u001b[1;32m     30\u001b[0m \u001b[0;34m\u001b[0m\u001b[0m\n\u001b[1;32m     31\u001b[0m \u001b[0;34m\u001b[0m\u001b[0m\n\u001b[0;32m---> 32\u001b[0;31m \u001b[0mresume_pdf_to_text\u001b[0m\u001b[0;34m(\u001b[0m\u001b[0;34m)\u001b[0m\u001b[0;34m\u001b[0m\u001b[0;34m\u001b[0m\u001b[0m\n\u001b[0m",
      "\u001b[0;32m/tmp/ipykernel_13437/1684152812.py\u001b[0m in \u001b[0;36mresume_pdf_to_text\u001b[0;34m()\u001b[0m\n\u001b[1;32m     19\u001b[0m         \u001b[0mpageObj\u001b[0m \u001b[0;34m=\u001b[0m \u001b[0mall_resumes_file\u001b[0m\u001b[0;34m.\u001b[0m\u001b[0mgetPage\u001b[0m\u001b[0;34m(\u001b[0m\u001b[0mn\u001b[0m\u001b[0;34m)\u001b[0m\u001b[0;34m\u001b[0m\u001b[0;34m\u001b[0m\u001b[0m\n\u001b[1;32m     20\u001b[0m         \u001b[0;31m# full_resume_file = pageObj.extract_text()\u001b[0m\u001b[0;34m\u001b[0m\u001b[0;34m\u001b[0m\u001b[0;34m\u001b[0m\u001b[0m\n\u001b[0;32m---> 21\u001b[0;31m         \u001b[0mpdfWriter\u001b[0m\u001b[0;34m.\u001b[0m\u001b[0maddPage\u001b[0m\u001b[0;34m(\u001b[0m\u001b[0mpageObj\u001b[0m\u001b[0;34m.\u001b[0m\u001b[0mextract_text\u001b[0m\u001b[0;34m(\u001b[0m\u001b[0;34m)\u001b[0m\u001b[0;34m)\u001b[0m\u001b[0;34m\u001b[0m\u001b[0;34m\u001b[0m\u001b[0m\n\u001b[0m\u001b[1;32m     22\u001b[0m     \u001b[0mpdfOutput\u001b[0m \u001b[0;34m=\u001b[0m \u001b[0mopen\u001b[0m\u001b[0;34m(\u001b[0m\u001b[0;34mf'{folder_path}/{resume_folder}_resumes.pdf'\u001b[0m\u001b[0;34m,\u001b[0m \u001b[0;34m'wb'\u001b[0m\u001b[0;34m)\u001b[0m\u001b[0;34m\u001b[0m\u001b[0;34m\u001b[0m\u001b[0m\n\u001b[1;32m     23\u001b[0m     \u001b[0mpdfWriter\u001b[0m\u001b[0;34m.\u001b[0m\u001b[0mwrite\u001b[0m\u001b[0;34m(\u001b[0m\u001b[0mpdfOutput\u001b[0m\u001b[0;34m)\u001b[0m\u001b[0;34m\u001b[0m\u001b[0;34m\u001b[0m\u001b[0m\n",
      "\u001b[0;32m~/deb/tests/capstone/venv/lib/python3.7/site-packages/PyPDF2/_writer.py\u001b[0m in \u001b[0;36maddPage\u001b[0;34m(self, page)\u001b[0m\n\u001b[1;32m    249\u001b[0m         \"\"\"\n\u001b[1;32m    250\u001b[0m         \u001b[0mdeprecate_with_replacement\u001b[0m\u001b[0;34m(\u001b[0m\u001b[0;34m\"addPage\"\u001b[0m\u001b[0;34m,\u001b[0m \u001b[0;34m\"add_page\"\u001b[0m\u001b[0;34m)\u001b[0m\u001b[0;34m\u001b[0m\u001b[0;34m\u001b[0m\u001b[0m\n\u001b[0;32m--> 251\u001b[0;31m         \u001b[0mself\u001b[0m\u001b[0;34m.\u001b[0m\u001b[0madd_page\u001b[0m\u001b[0;34m(\u001b[0m\u001b[0mpage\u001b[0m\u001b[0;34m)\u001b[0m\u001b[0;34m\u001b[0m\u001b[0;34m\u001b[0m\u001b[0m\n\u001b[0m\u001b[1;32m    252\u001b[0m \u001b[0;34m\u001b[0m\u001b[0m\n\u001b[1;32m    253\u001b[0m     \u001b[0;32mdef\u001b[0m \u001b[0minsert_page\u001b[0m\u001b[0;34m(\u001b[0m\u001b[0mself\u001b[0m\u001b[0;34m,\u001b[0m \u001b[0mpage\u001b[0m\u001b[0;34m:\u001b[0m \u001b[0mPageObject\u001b[0m\u001b[0;34m,\u001b[0m \u001b[0mindex\u001b[0m\u001b[0;34m:\u001b[0m \u001b[0mint\u001b[0m \u001b[0;34m=\u001b[0m \u001b[0;36m0\u001b[0m\u001b[0;34m)\u001b[0m \u001b[0;34m->\u001b[0m \u001b[0;32mNone\u001b[0m\u001b[0;34m:\u001b[0m\u001b[0;34m\u001b[0m\u001b[0;34m\u001b[0m\u001b[0m\n",
      "\u001b[0;32m~/deb/tests/capstone/venv/lib/python3.7/site-packages/PyPDF2/_writer.py\u001b[0m in \u001b[0;36madd_page\u001b[0;34m(self, page)\u001b[0m\n\u001b[1;32m    240\u001b[0m             \u001b[0man\u001b[0m \u001b[0minstance\u001b[0m \u001b[0mof\u001b[0m \u001b[0;34m:\u001b[0m\u001b[0;32mclass\u001b[0m\u001b[0;34m:\u001b[0m\u001b[0;31m`\u001b[0m\u001b[0mPageObject\u001b[0m\u001b[0;34m<\u001b[0m\u001b[0mPyPDF2\u001b[0m\u001b[0;34m.\u001b[0m\u001b[0m_page\u001b[0m\u001b[0;34m.\u001b[0m\u001b[0mPageObject\u001b[0m\u001b[0;34m>\u001b[0m\u001b[0;31m`\u001b[0m\u001b[0;34m\u001b[0m\u001b[0;34m\u001b[0m\u001b[0m\n\u001b[1;32m    241\u001b[0m         \"\"\"\n\u001b[0;32m--> 242\u001b[0;31m         \u001b[0mself\u001b[0m\u001b[0;34m.\u001b[0m\u001b[0m_add_page\u001b[0m\u001b[0;34m(\u001b[0m\u001b[0mpage\u001b[0m\u001b[0;34m,\u001b[0m \u001b[0mlist\u001b[0m\u001b[0;34m.\u001b[0m\u001b[0mappend\u001b[0m\u001b[0;34m)\u001b[0m\u001b[0;34m\u001b[0m\u001b[0;34m\u001b[0m\u001b[0m\n\u001b[0m\u001b[1;32m    243\u001b[0m \u001b[0;34m\u001b[0m\u001b[0m\n\u001b[1;32m    244\u001b[0m     \u001b[0;32mdef\u001b[0m \u001b[0maddPage\u001b[0m\u001b[0;34m(\u001b[0m\u001b[0mself\u001b[0m\u001b[0;34m,\u001b[0m \u001b[0mpage\u001b[0m\u001b[0;34m:\u001b[0m \u001b[0mPageObject\u001b[0m\u001b[0;34m)\u001b[0m \u001b[0;34m->\u001b[0m \u001b[0;32mNone\u001b[0m\u001b[0;34m:\u001b[0m  \u001b[0;31m# pragma: no cover\u001b[0m\u001b[0;34m\u001b[0m\u001b[0;34m\u001b[0m\u001b[0m\n",
      "\u001b[0;32m~/deb/tests/capstone/venv/lib/python3.7/site-packages/PyPDF2/_writer.py\u001b[0m in \u001b[0;36m_add_page\u001b[0;34m(self, page, action)\u001b[0m\n\u001b[1;32m    196\u001b[0m         \u001b[0mself\u001b[0m\u001b[0;34m,\u001b[0m \u001b[0mpage\u001b[0m\u001b[0;34m:\u001b[0m \u001b[0mPageObject\u001b[0m\u001b[0;34m,\u001b[0m \u001b[0maction\u001b[0m\u001b[0;34m:\u001b[0m \u001b[0mCallable\u001b[0m\u001b[0;34m[\u001b[0m\u001b[0;34m[\u001b[0m\u001b[0mAny\u001b[0m\u001b[0;34m,\u001b[0m \u001b[0mIndirectObject\u001b[0m\u001b[0;34m]\u001b[0m\u001b[0;34m,\u001b[0m \u001b[0;32mNone\u001b[0m\u001b[0;34m]\u001b[0m\u001b[0;34m\u001b[0m\u001b[0;34m\u001b[0m\u001b[0m\n\u001b[1;32m    197\u001b[0m     ) -> None:\n\u001b[0;32m--> 198\u001b[0;31m         \u001b[0;32massert\u001b[0m \u001b[0mpage\u001b[0m\u001b[0;34m[\u001b[0m\u001b[0mPA\u001b[0m\u001b[0;34m.\u001b[0m\u001b[0mTYPE\u001b[0m\u001b[0;34m]\u001b[0m \u001b[0;34m==\u001b[0m \u001b[0mCO\u001b[0m\u001b[0;34m.\u001b[0m\u001b[0mPAGE\u001b[0m\u001b[0;34m\u001b[0m\u001b[0;34m\u001b[0m\u001b[0m\n\u001b[0m\u001b[1;32m    199\u001b[0m         \u001b[0;32mif\u001b[0m \u001b[0mpage\u001b[0m\u001b[0;34m.\u001b[0m\u001b[0mpdf\u001b[0m \u001b[0;32mis\u001b[0m \u001b[0;32mnot\u001b[0m \u001b[0;32mNone\u001b[0m\u001b[0;34m:\u001b[0m\u001b[0;34m\u001b[0m\u001b[0;34m\u001b[0m\u001b[0m\n\u001b[1;32m    200\u001b[0m             \u001b[0mother\u001b[0m \u001b[0;34m=\u001b[0m \u001b[0mpage\u001b[0m\u001b[0;34m.\u001b[0m\u001b[0mpdf\u001b[0m\u001b[0;34m.\u001b[0m\u001b[0mpdf_header\u001b[0m\u001b[0;34m\u001b[0m\u001b[0;34m\u001b[0m\u001b[0m\n",
      "\u001b[0;31mTypeError\u001b[0m: string indices must be integers"
     ]
    }
   ],
   "source": [
    "# import PyPDF2\n",
    "# import aspose.words as aw\n",
    "\n",
    "\n",
    "# folder_path = 'data/Resume/TEACHER'\n",
    "# resume_folder = os.path.basename(folder_path).lower()\n",
    "\n",
    "\n",
    "def resume_pdf_to_text():\n",
    "    # using python we open our pdf using binary, cause pdfs usually are\n",
    "    all_resumes_pdf = open(f'{folder_path}/{resume_folder}_resumes.pdf', mode='rb')\n",
    "    # callin in the reader function\n",
    "    all_resumes_file = PyPDF2.PdfFileReader(all_resumes_pdf)\n",
    "    # give our writer function a name so we can use him\n",
    "    pdfWriter = PyPDF2.PdfFileWriter()\n",
    "    full_resume_file = []\n",
    "    # lets go on and grab that text out of there while we have it open\n",
    "    for n in range(all_resumes_file.numPages):\n",
    "        pageObj = all_resumes_file.getPage(n)\n",
    "        # full_resume_file = pageObj.extract_text()\n",
    "        \n",
    "    pdfOutput = open(f'{folder_path}/{resume_folder}_resumes.pdf', 'wb')\n",
    "    pdfWriter.write(pdfOutput)\n",
    "    # doc = aw.Document(f'{folder_path}/{resume_folder}_resumes.pdf')\n",
    "\n",
    "\n",
    "    # doc.save(f'{folder_path}/{resume_folder}_resumes.txt')\n",
    "    all_resumes_pdf.close()\n",
    "    \n",
    "    \n",
    "\n",
    "resume_pdf_to_text()"
   ]
  },
  {
   "cell_type": "code",
   "execution_count": 27,
   "metadata": {},
   "outputs": [
    {
     "data": {
      "text/plain": [
       "<aspose.words.saving.SaveOutputParameters object at 0x7f191cd20750>"
      ]
     },
     "execution_count": 27,
     "metadata": {},
     "output_type": "execute_result"
    }
   ],
   "source": [
    "doc = aw.Document(f'{folder_path}/{resume_folder}_resumes.pdf')\n",
    "doc.save(f'{folder_path}/{resume_folder}_resumes.txt')\n"
   ]
  },
  {
   "cell_type": "code",
   "execution_count": 10,
   "metadata": {},
   "outputs": [
    {
     "data": {
      "text/plain": [
       "<aspose.words.saving.SaveOutputParameters object at 0x7f19527c28f0>"
      ]
     },
     "execution_count": 10,
     "metadata": {},
     "output_type": "execute_result"
    }
   ],
   "source": [
    "import aspose.words as aw\n",
    "\n",
    "doc = aw.Document(\"data/Resume/test/all_resumes.pdf\")\n",
    "doc.save(\"data/Resume/test/all_resumes.txt\")\n"
   ]
  }
 ],
 "metadata": {
  "kernelspec": {
   "display_name": "Python 3.7.13 ('venv': venv)",
   "language": "python",
   "name": "python3"
  },
  "language_info": {
   "codemirror_mode": {
    "name": "ipython",
    "version": 3
   },
   "file_extension": ".py",
   "mimetype": "text/x-python",
   "name": "python",
   "nbconvert_exporter": "python",
   "pygments_lexer": "ipython3",
   "version": "3.7.13"
  },
  "orig_nbformat": 4,
  "vscode": {
   "interpreter": {
    "hash": "4ef022e24af0d9896d2df829234e3a8e308e976d2609f0b1a6e645a4d7a45074"
   }
  }
 },
 "nbformat": 4,
 "nbformat_minor": 2
}
